{
 "cells": [
  {
   "cell_type": "code",
   "execution_count": 5,
   "metadata": {},
   "outputs": [],
   "source": [
    "import pandas as pd, numpy as np, babel as bl, scipy as sp, seaborn as sns, matplotlib.pyplot as plt"
   ]
  },
  {
   "cell_type": "code",
   "execution_count": 7,
   "metadata": {},
   "outputs": [],
   "source": [
    "dete_survey = pd.read_csv('dete_survey.csv')"
   ]
  },
  {
   "cell_type": "code",
   "execution_count": 8,
   "metadata": {},
   "outputs": [],
   "source": [
    "tafe_survey = pd.read_csv('tafe_survey.csv')"
   ]
  },
  {
   "cell_type": "code",
   "execution_count": 9,
   "metadata": {},
   "outputs": [
    {
     "name": "stdout",
     "output_type": "stream",
     "text": [
      "<class 'pandas.core.frame.DataFrame'>\n",
      "RangeIndex: 822 entries, 0 to 821\n",
      "Data columns (total 56 columns):\n",
      " #   Column                               Non-Null Count  Dtype \n",
      "---  ------                               --------------  ----- \n",
      " 0   ID                                   822 non-null    int64 \n",
      " 1   SeparationType                       822 non-null    object\n",
      " 2   Cease Date                           822 non-null    object\n",
      " 3   DETE Start Date                      822 non-null    object\n",
      " 4   Role Start Date                      822 non-null    object\n",
      " 5   Position                             817 non-null    object\n",
      " 6   Classification                       455 non-null    object\n",
      " 7   Region                               822 non-null    object\n",
      " 8   Business Unit                        126 non-null    object\n",
      " 9   Employment Status                    817 non-null    object\n",
      " 10  Career move to public sector         822 non-null    bool  \n",
      " 11  Career move to private sector        822 non-null    bool  \n",
      " 12  Interpersonal conflicts              822 non-null    bool  \n",
      " 13  Job dissatisfaction                  822 non-null    bool  \n",
      " 14  Dissatisfaction with the department  822 non-null    bool  \n",
      " 15  Physical work environment            822 non-null    bool  \n",
      " 16  Lack of recognition                  822 non-null    bool  \n",
      " 17  Lack of job security                 822 non-null    bool  \n",
      " 18  Work location                        822 non-null    bool  \n",
      " 19  Employment conditions                822 non-null    bool  \n",
      " 20  Maternity/family                     822 non-null    bool  \n",
      " 21  Relocation                           822 non-null    bool  \n",
      " 22  Study/Travel                         822 non-null    bool  \n",
      " 23  Ill Health                           822 non-null    bool  \n",
      " 24  Traumatic incident                   822 non-null    bool  \n",
      " 25  Work life balance                    822 non-null    bool  \n",
      " 26  Workload                             822 non-null    bool  \n",
      " 27  None of the above                    822 non-null    bool  \n",
      " 28  Professional Development             808 non-null    object\n",
      " 29  Opportunities for promotion          735 non-null    object\n",
      " 30  Staff morale                         816 non-null    object\n",
      " 31  Workplace issue                      788 non-null    object\n",
      " 32  Physical environment                 817 non-null    object\n",
      " 33  Worklife balance                     815 non-null    object\n",
      " 34  Stress and pressure support          810 non-null    object\n",
      " 35  Performance of supervisor            813 non-null    object\n",
      " 36  Peer support                         812 non-null    object\n",
      " 37  Initiative                           813 non-null    object\n",
      " 38  Skills                               811 non-null    object\n",
      " 39  Coach                                767 non-null    object\n",
      " 40  Career Aspirations                   746 non-null    object\n",
      " 41  Feedback                             792 non-null    object\n",
      " 42  Further PD                           768 non-null    object\n",
      " 43  Communication                        814 non-null    object\n",
      " 44  My say                               812 non-null    object\n",
      " 45  Information                          816 non-null    object\n",
      " 46  Kept informed                        813 non-null    object\n",
      " 47  Wellness programs                    766 non-null    object\n",
      " 48  Health & Safety                      793 non-null    object\n",
      " 49  Gender                               798 non-null    object\n",
      " 50  Age                                  811 non-null    object\n",
      " 51  Aboriginal                           16 non-null     object\n",
      " 52  Torres Strait                        3 non-null      object\n",
      " 53  South Sea                            7 non-null      object\n",
      " 54  Disability                           23 non-null     object\n",
      " 55  NESB                                 32 non-null     object\n",
      "dtypes: bool(18), int64(1), object(37)\n",
      "memory usage: 258.6+ KB\n"
     ]
    }
   ],
   "source": [
    "dete_survey.info()"
   ]
  },
  {
   "cell_type": "code",
   "execution_count": 10,
   "metadata": {},
   "outputs": [
    {
     "data": {
      "text/html": [
       "<div>\n",
       "<style scoped>\n",
       "    .dataframe tbody tr th:only-of-type {\n",
       "        vertical-align: middle;\n",
       "    }\n",
       "\n",
       "    .dataframe tbody tr th {\n",
       "        vertical-align: top;\n",
       "    }\n",
       "\n",
       "    .dataframe thead th {\n",
       "        text-align: right;\n",
       "    }\n",
       "</style>\n",
       "<table border=\"1\" class=\"dataframe\">\n",
       "  <thead>\n",
       "    <tr style=\"text-align: right;\">\n",
       "      <th></th>\n",
       "      <th>ID</th>\n",
       "      <th>SeparationType</th>\n",
       "      <th>Cease Date</th>\n",
       "      <th>DETE Start Date</th>\n",
       "      <th>Role Start Date</th>\n",
       "      <th>Position</th>\n",
       "      <th>Classification</th>\n",
       "      <th>Region</th>\n",
       "      <th>Business Unit</th>\n",
       "      <th>Employment Status</th>\n",
       "      <th>...</th>\n",
       "      <th>Kept informed</th>\n",
       "      <th>Wellness programs</th>\n",
       "      <th>Health &amp; Safety</th>\n",
       "      <th>Gender</th>\n",
       "      <th>Age</th>\n",
       "      <th>Aboriginal</th>\n",
       "      <th>Torres Strait</th>\n",
       "      <th>South Sea</th>\n",
       "      <th>Disability</th>\n",
       "      <th>NESB</th>\n",
       "    </tr>\n",
       "  </thead>\n",
       "  <tbody>\n",
       "    <tr>\n",
       "      <th>0</th>\n",
       "      <td>1</td>\n",
       "      <td>Ill Health Retirement</td>\n",
       "      <td>08/2012</td>\n",
       "      <td>1984</td>\n",
       "      <td>2004</td>\n",
       "      <td>Public Servant</td>\n",
       "      <td>A01-A04</td>\n",
       "      <td>Central Office</td>\n",
       "      <td>Corporate Strategy and Peformance</td>\n",
       "      <td>Permanent Full-time</td>\n",
       "      <td>...</td>\n",
       "      <td>N</td>\n",
       "      <td>N</td>\n",
       "      <td>N</td>\n",
       "      <td>Male</td>\n",
       "      <td>56-60</td>\n",
       "      <td>NaN</td>\n",
       "      <td>NaN</td>\n",
       "      <td>NaN</td>\n",
       "      <td>NaN</td>\n",
       "      <td>Yes</td>\n",
       "    </tr>\n",
       "    <tr>\n",
       "      <th>1</th>\n",
       "      <td>2</td>\n",
       "      <td>Voluntary Early Retirement (VER)</td>\n",
       "      <td>08/2012</td>\n",
       "      <td>Not Stated</td>\n",
       "      <td>Not Stated</td>\n",
       "      <td>Public Servant</td>\n",
       "      <td>AO5-AO7</td>\n",
       "      <td>Central Office</td>\n",
       "      <td>Corporate Strategy and Peformance</td>\n",
       "      <td>Permanent Full-time</td>\n",
       "      <td>...</td>\n",
       "      <td>N</td>\n",
       "      <td>N</td>\n",
       "      <td>N</td>\n",
       "      <td>Male</td>\n",
       "      <td>56-60</td>\n",
       "      <td>NaN</td>\n",
       "      <td>NaN</td>\n",
       "      <td>NaN</td>\n",
       "      <td>NaN</td>\n",
       "      <td>NaN</td>\n",
       "    </tr>\n",
       "    <tr>\n",
       "      <th>2</th>\n",
       "      <td>3</td>\n",
       "      <td>Voluntary Early Retirement (VER)</td>\n",
       "      <td>05/2012</td>\n",
       "      <td>2011</td>\n",
       "      <td>2011</td>\n",
       "      <td>Schools Officer</td>\n",
       "      <td>NaN</td>\n",
       "      <td>Central Office</td>\n",
       "      <td>Education Queensland</td>\n",
       "      <td>Permanent Full-time</td>\n",
       "      <td>...</td>\n",
       "      <td>N</td>\n",
       "      <td>N</td>\n",
       "      <td>N</td>\n",
       "      <td>Male</td>\n",
       "      <td>61 or older</td>\n",
       "      <td>NaN</td>\n",
       "      <td>NaN</td>\n",
       "      <td>NaN</td>\n",
       "      <td>NaN</td>\n",
       "      <td>NaN</td>\n",
       "    </tr>\n",
       "  </tbody>\n",
       "</table>\n",
       "<p>3 rows × 56 columns</p>\n",
       "</div>"
      ],
      "text/plain": [
       "   ID                    SeparationType Cease Date DETE Start Date  \\\n",
       "0   1             Ill Health Retirement    08/2012            1984   \n",
       "1   2  Voluntary Early Retirement (VER)    08/2012      Not Stated   \n",
       "2   3  Voluntary Early Retirement (VER)    05/2012            2011   \n",
       "\n",
       "  Role Start Date         Position Classification          Region  \\\n",
       "0            2004   Public Servant        A01-A04  Central Office   \n",
       "1      Not Stated   Public Servant        AO5-AO7  Central Office   \n",
       "2            2011  Schools Officer            NaN  Central Office   \n",
       "\n",
       "                       Business Unit    Employment Status  ...  Kept informed  \\\n",
       "0  Corporate Strategy and Peformance  Permanent Full-time  ...              N   \n",
       "1  Corporate Strategy and Peformance  Permanent Full-time  ...              N   \n",
       "2               Education Queensland  Permanent Full-time  ...              N   \n",
       "\n",
       "   Wellness programs  Health & Safety  Gender          Age  Aboriginal  \\\n",
       "0                  N                N    Male        56-60         NaN   \n",
       "1                  N                N    Male        56-60         NaN   \n",
       "2                  N                N    Male  61 or older         NaN   \n",
       "\n",
       "   Torres Strait  South Sea  Disability  NESB  \n",
       "0            NaN        NaN         NaN   Yes  \n",
       "1            NaN        NaN         NaN   NaN  \n",
       "2            NaN        NaN         NaN   NaN  \n",
       "\n",
       "[3 rows x 56 columns]"
      ]
     },
     "execution_count": 10,
     "metadata": {},
     "output_type": "execute_result"
    }
   ],
   "source": [
    "dete_survey.head(3)"
   ]
  },
  {
   "cell_type": "code",
   "execution_count": 170,
   "metadata": {},
   "outputs": [
    {
     "name": "stdout",
     "output_type": "stream",
     "text": [
      "<class 'pandas.core.frame.DataFrame'>\n",
      "RangeIndex: 702 entries, 0 to 701\n",
      "Data columns (total 72 columns):\n",
      " #   Column                                                                                                                                                         Non-Null Count  Dtype  \n",
      "---  ------                                                                                                                                                         --------------  -----  \n",
      " 0   Record ID                                                                                                                                                      702 non-null    float64\n",
      " 1   Institute                                                                                                                                                      702 non-null    object \n",
      " 2   WorkArea                                                                                                                                                       702 non-null    object \n",
      " 3   CESSATION YEAR                                                                                                                                                 695 non-null    float64\n",
      " 4   Reason for ceasing employment                                                                                                                                  701 non-null    object \n",
      " 5   Contributing Factors. Career Move - Public Sector                                                                                                              437 non-null    object \n",
      " 6   Contributing Factors. Career Move - Private Sector                                                                                                             437 non-null    object \n",
      " 7   Contributing Factors. Career Move - Self-employment                                                                                                            437 non-null    object \n",
      " 8   Contributing Factors. Ill Health                                                                                                                               437 non-null    object \n",
      " 9   Contributing Factors. Maternity/Family                                                                                                                         437 non-null    object \n",
      " 10  Contributing Factors. Dissatisfaction                                                                                                                          437 non-null    object \n",
      " 11  Contributing Factors. Job Dissatisfaction                                                                                                                      437 non-null    object \n",
      " 12  Contributing Factors. Interpersonal Conflict                                                                                                                   437 non-null    object \n",
      " 13  Contributing Factors. Study                                                                                                                                    437 non-null    object \n",
      " 14  Contributing Factors. Travel                                                                                                                                   437 non-null    object \n",
      " 15  Contributing Factors. Other                                                                                                                                    437 non-null    object \n",
      " 16  Contributing Factors. NONE                                                                                                                                     437 non-null    object \n",
      " 17  Main Factor. Which of these was the main factor for leaving?                                                                                                   113 non-null    object \n",
      " 18  InstituteViews. Topic:1. I feel the senior leadership had a clear vision and direction                                                                         608 non-null    object \n",
      " 19  InstituteViews. Topic:2. I was given access to skills training to help me do my job better                                                                     613 non-null    object \n",
      " 20  InstituteViews. Topic:3. I was given adequate opportunities for personal development                                                                           610 non-null    object \n",
      " 21  InstituteViews. Topic:4. I was given adequate opportunities for promotion within %Institute]Q25LBL%                                                            608 non-null    object \n",
      " 22  InstituteViews. Topic:5. I felt the salary for the job was right for the responsibilities I had                                                                615 non-null    object \n",
      " 23  InstituteViews. Topic:6. The organisation recognised when staff did good work                                                                                  607 non-null    object \n",
      " 24  InstituteViews. Topic:7. Management was generally supportive of me                                                                                             614 non-null    object \n",
      " 25  InstituteViews. Topic:8. Management was generally supportive of my team                                                                                        608 non-null    object \n",
      " 26  InstituteViews. Topic:9. I was kept informed of the changes in the organisation which would affect me                                                          610 non-null    object \n",
      " 27  InstituteViews. Topic:10. Staff morale was positive within the Institute                                                                                       602 non-null    object \n",
      " 28  InstituteViews. Topic:11. If I had a workplace issue it was dealt with quickly                                                                                 601 non-null    object \n",
      " 29  InstituteViews. Topic:12. If I had a workplace issue it was dealt with efficiently                                                                             597 non-null    object \n",
      " 30  InstituteViews. Topic:13. If I had a workplace issue it was dealt with discreetly                                                                              601 non-null    object \n",
      " 31  WorkUnitViews. Topic:14. I was satisfied with the quality of the management and supervision within my work unit                                                609 non-null    object \n",
      " 32  WorkUnitViews. Topic:15. I worked well with my colleagues                                                                                                      605 non-null    object \n",
      " 33  WorkUnitViews. Topic:16. My job was challenging and interesting                                                                                                607 non-null    object \n",
      " 34  WorkUnitViews. Topic:17. I was encouraged to use my initiative in the course of my work                                                                        610 non-null    object \n",
      " 35  WorkUnitViews. Topic:18. I had sufficient contact with other people in my job                                                                                  613 non-null    object \n",
      " 36  WorkUnitViews. Topic:19. I was given adequate support and co-operation by my peers to enable me to do my job                                                   609 non-null    object \n",
      " 37  WorkUnitViews. Topic:20. I was able to use the full range of my skills in my job                                                                               609 non-null    object \n",
      " 38  WorkUnitViews. Topic:21. I was able to use the full range of my abilities in my job. ; Category:Level of Agreement; Question:YOUR VIEWS ABOUT YOUR WORK UNIT]  608 non-null    object \n",
      " 39  WorkUnitViews. Topic:22. I was able to use the full range of my knowledge in my job                                                                            608 non-null    object \n",
      " 40  WorkUnitViews. Topic:23. My job provided sufficient variety                                                                                                    611 non-null    object \n",
      " 41  WorkUnitViews. Topic:24. I was able to cope with the level of stress and pressure in my job                                                                    610 non-null    object \n",
      " 42  WorkUnitViews. Topic:25. My job allowed me to balance the demands of work and family to my satisfaction                                                        611 non-null    object \n",
      " 43  WorkUnitViews. Topic:26. My supervisor gave me adequate personal recognition and feedback on my performance                                                    606 non-null    object \n",
      " 44  WorkUnitViews. Topic:27. My working environment was satisfactory e.g. sufficient space, good lighting, suitable seating and working area                       610 non-null    object \n",
      " 45  WorkUnitViews. Topic:28. I was given the opportunity to mentor and coach others in order for me to pass on my skills and knowledge prior to my cessation date  609 non-null    object \n",
      " 46  WorkUnitViews. Topic:29. There was adequate communication between staff in my unit                                                                             603 non-null    object \n",
      " 47  WorkUnitViews. Topic:30. Staff morale was positive within my work unit                                                                                         606 non-null    object \n",
      " 48  Induction. Did you undertake Workplace Induction?                                                                                                              619 non-null    object \n",
      " 49  InductionInfo. Topic:Did you undertake a Corporate Induction?                                                                                                  432 non-null    object \n",
      " 50  InductionInfo. Topic:Did you undertake a Institute Induction?                                                                                                  483 non-null    object \n",
      " 51  InductionInfo. Topic: Did you undertake Team Induction?                                                                                                        440 non-null    object \n",
      " 52  InductionInfo. Face to Face Topic:Did you undertake a Corporate Induction; Category:How it was conducted?                                                      555 non-null    object \n",
      " 53  InductionInfo. On-line Topic:Did you undertake a Corporate Induction; Category:How it was conducted?                                                           555 non-null    object \n",
      " 54  InductionInfo. Induction Manual Topic:Did you undertake a Corporate Induction?                                                                                 555 non-null    object \n",
      " 55  InductionInfo. Face to Face Topic:Did you undertake a Institute Induction?                                                                                     530 non-null    object \n",
      " 56  InductionInfo. On-line Topic:Did you undertake a Institute Induction?                                                                                          555 non-null    object \n",
      " 57  InductionInfo. Induction Manual Topic:Did you undertake a Institute Induction?                                                                                 553 non-null    object \n",
      " 58  InductionInfo. Face to Face Topic: Did you undertake Team Induction; Category?                                                                                 555 non-null    object \n",
      " 59  InductionInfo. On-line Topic: Did you undertake Team Induction?process you undertook and how it was conducted.]                                                555 non-null    object \n",
      " 60  InductionInfo. Induction Manual Topic: Did you undertake Team Induction?                                                                                       555 non-null    object \n",
      " 61  Workplace. Topic:Did you and your Manager develop a Performance and Professional Development Plan (PPDP)?                                                      608 non-null    object \n",
      " 62  Workplace. Topic:Does your workplace promote a work culture free from all forms of unlawful discrimination?                                                    594 non-null    object \n",
      " 63  Workplace. Topic:Does your workplace promote and practice the principles of employment equity?                                                                 587 non-null    object \n",
      " 64  Workplace. Topic:Does your workplace value the diversity of its employees?                                                                                     586 non-null    object \n",
      " 65  Workplace. Topic:Would you recommend the Institute as an employer to others?                                                                                   581 non-null    object \n",
      " 66  Gender. What is your Gender?                                                                                                                                   596 non-null    object \n",
      " 67  CurrentAge. Current Age                                                                                                                                        596 non-null    object \n",
      " 68  Employment Type. Employment Type                                                                                                                               596 non-null    object \n",
      " 69  Classification. Classification                                                                                                                                 596 non-null    object \n",
      " 70  LengthofServiceOverall. Overall Length of Service at Institute (in years)                                                                                      596 non-null    object \n",
      " 71  LengthofServiceCurrent. Length of Service at current workplace (in years)                                                                                      596 non-null    object \n",
      "dtypes: float64(2), object(70)\n",
      "memory usage: 395.0+ KB\n"
     ]
    }
   ],
   "source": [
    "tafe_survey.info()"
   ]
  },
  {
   "cell_type": "code",
   "execution_count": 12,
   "metadata": {},
   "outputs": [
    {
     "data": {
      "text/html": [
       "<div>\n",
       "<style scoped>\n",
       "    .dataframe tbody tr th:only-of-type {\n",
       "        vertical-align: middle;\n",
       "    }\n",
       "\n",
       "    .dataframe tbody tr th {\n",
       "        vertical-align: top;\n",
       "    }\n",
       "\n",
       "    .dataframe thead th {\n",
       "        text-align: right;\n",
       "    }\n",
       "</style>\n",
       "<table border=\"1\" class=\"dataframe\">\n",
       "  <thead>\n",
       "    <tr style=\"text-align: right;\">\n",
       "      <th></th>\n",
       "      <th>Record ID</th>\n",
       "      <th>Institute</th>\n",
       "      <th>WorkArea</th>\n",
       "      <th>CESSATION YEAR</th>\n",
       "      <th>Reason for ceasing employment</th>\n",
       "      <th>Contributing Factors. Career Move - Public Sector</th>\n",
       "      <th>Contributing Factors. Career Move - Private Sector</th>\n",
       "      <th>Contributing Factors. Career Move - Self-employment</th>\n",
       "      <th>Contributing Factors. Ill Health</th>\n",
       "      <th>Contributing Factors. Maternity/Family</th>\n",
       "      <th>...</th>\n",
       "      <th>Workplace. Topic:Does your workplace promote a work culture free from all forms of unlawful discrimination?</th>\n",
       "      <th>Workplace. Topic:Does your workplace promote and practice the principles of employment equity?</th>\n",
       "      <th>Workplace. Topic:Does your workplace value the diversity of its employees?</th>\n",
       "      <th>Workplace. Topic:Would you recommend the Institute as an employer to others?</th>\n",
       "      <th>Gender. What is your Gender?</th>\n",
       "      <th>CurrentAge. Current Age</th>\n",
       "      <th>Employment Type. Employment Type</th>\n",
       "      <th>Classification. Classification</th>\n",
       "      <th>LengthofServiceOverall. Overall Length of Service at Institute (in years)</th>\n",
       "      <th>LengthofServiceCurrent. Length of Service at current workplace (in years)</th>\n",
       "    </tr>\n",
       "  </thead>\n",
       "  <tbody>\n",
       "    <tr>\n",
       "      <th>0</th>\n",
       "      <td>6.341330e+17</td>\n",
       "      <td>Southern Queensland Institute of TAFE</td>\n",
       "      <td>Non-Delivery (corporate)</td>\n",
       "      <td>2010.0</td>\n",
       "      <td>Contract Expired</td>\n",
       "      <td>NaN</td>\n",
       "      <td>NaN</td>\n",
       "      <td>NaN</td>\n",
       "      <td>NaN</td>\n",
       "      <td>NaN</td>\n",
       "      <td>...</td>\n",
       "      <td>Yes</td>\n",
       "      <td>Yes</td>\n",
       "      <td>Yes</td>\n",
       "      <td>Yes</td>\n",
       "      <td>Female</td>\n",
       "      <td>26  30</td>\n",
       "      <td>Temporary Full-time</td>\n",
       "      <td>Administration (AO)</td>\n",
       "      <td>1-2</td>\n",
       "      <td>1-2</td>\n",
       "    </tr>\n",
       "    <tr>\n",
       "      <th>1</th>\n",
       "      <td>6.341337e+17</td>\n",
       "      <td>Mount Isa Institute of TAFE</td>\n",
       "      <td>Non-Delivery (corporate)</td>\n",
       "      <td>2010.0</td>\n",
       "      <td>Retirement</td>\n",
       "      <td>-</td>\n",
       "      <td>-</td>\n",
       "      <td>-</td>\n",
       "      <td>-</td>\n",
       "      <td>-</td>\n",
       "      <td>...</td>\n",
       "      <td>Yes</td>\n",
       "      <td>Yes</td>\n",
       "      <td>Yes</td>\n",
       "      <td>Yes</td>\n",
       "      <td>NaN</td>\n",
       "      <td>NaN</td>\n",
       "      <td>NaN</td>\n",
       "      <td>NaN</td>\n",
       "      <td>NaN</td>\n",
       "      <td>NaN</td>\n",
       "    </tr>\n",
       "    <tr>\n",
       "      <th>2</th>\n",
       "      <td>6.341388e+17</td>\n",
       "      <td>Mount Isa Institute of TAFE</td>\n",
       "      <td>Delivery (teaching)</td>\n",
       "      <td>2010.0</td>\n",
       "      <td>Retirement</td>\n",
       "      <td>-</td>\n",
       "      <td>-</td>\n",
       "      <td>-</td>\n",
       "      <td>-</td>\n",
       "      <td>-</td>\n",
       "      <td>...</td>\n",
       "      <td>Yes</td>\n",
       "      <td>Yes</td>\n",
       "      <td>Yes</td>\n",
       "      <td>Yes</td>\n",
       "      <td>NaN</td>\n",
       "      <td>NaN</td>\n",
       "      <td>NaN</td>\n",
       "      <td>NaN</td>\n",
       "      <td>NaN</td>\n",
       "      <td>NaN</td>\n",
       "    </tr>\n",
       "  </tbody>\n",
       "</table>\n",
       "<p>3 rows × 72 columns</p>\n",
       "</div>"
      ],
      "text/plain": [
       "      Record ID                              Institute  \\\n",
       "0  6.341330e+17  Southern Queensland Institute of TAFE   \n",
       "1  6.341337e+17            Mount Isa Institute of TAFE   \n",
       "2  6.341388e+17            Mount Isa Institute of TAFE   \n",
       "\n",
       "                   WorkArea  CESSATION YEAR Reason for ceasing employment  \\\n",
       "0  Non-Delivery (corporate)          2010.0              Contract Expired   \n",
       "1  Non-Delivery (corporate)          2010.0                    Retirement   \n",
       "2       Delivery (teaching)          2010.0                    Retirement   \n",
       "\n",
       "  Contributing Factors. Career Move - Public Sector   \\\n",
       "0                                                NaN   \n",
       "1                                                  -   \n",
       "2                                                  -   \n",
       "\n",
       "  Contributing Factors. Career Move - Private Sector   \\\n",
       "0                                                NaN    \n",
       "1                                                  -    \n",
       "2                                                  -    \n",
       "\n",
       "  Contributing Factors. Career Move - Self-employment  \\\n",
       "0                                                NaN    \n",
       "1                                                  -    \n",
       "2                                                  -    \n",
       "\n",
       "  Contributing Factors. Ill Health Contributing Factors. Maternity/Family  \\\n",
       "0                              NaN                                    NaN   \n",
       "1                                -                                      -   \n",
       "2                                -                                      -   \n",
       "\n",
       "   ...  \\\n",
       "0  ...   \n",
       "1  ...   \n",
       "2  ...   \n",
       "\n",
       "  Workplace. Topic:Does your workplace promote a work culture free from all forms of unlawful discrimination?  \\\n",
       "0                                                Yes                                                            \n",
       "1                                                Yes                                                            \n",
       "2                                                Yes                                                            \n",
       "\n",
       "  Workplace. Topic:Does your workplace promote and practice the principles of employment equity?  \\\n",
       "0                                                Yes                                               \n",
       "1                                                Yes                                               \n",
       "2                                                Yes                                               \n",
       "\n",
       "  Workplace. Topic:Does your workplace value the diversity of its employees?  \\\n",
       "0                                                Yes                           \n",
       "1                                                Yes                           \n",
       "2                                                Yes                           \n",
       "\n",
       "  Workplace. Topic:Would you recommend the Institute as an employer to others?  \\\n",
       "0                                                Yes                             \n",
       "1                                                Yes                             \n",
       "2                                                Yes                             \n",
       "\n",
       "  Gender. What is your Gender? CurrentAge. Current Age  \\\n",
       "0                       Female                  26  30   \n",
       "1                          NaN                     NaN   \n",
       "2                          NaN                     NaN   \n",
       "\n",
       "  Employment Type. Employment Type Classification. Classification  \\\n",
       "0              Temporary Full-time            Administration (AO)   \n",
       "1                              NaN                            NaN   \n",
       "2                              NaN                            NaN   \n",
       "\n",
       "  LengthofServiceOverall. Overall Length of Service at Institute (in years)  \\\n",
       "0                                                1-2                          \n",
       "1                                                NaN                          \n",
       "2                                                NaN                          \n",
       "\n",
       "  LengthofServiceCurrent. Length of Service at current workplace (in years)  \n",
       "0                                                1-2                         \n",
       "1                                                NaN                         \n",
       "2                                                NaN                         \n",
       "\n",
       "[3 rows x 72 columns]"
      ]
     },
     "execution_count": 12,
     "metadata": {},
     "output_type": "execute_result"
    }
   ],
   "source": [
    "tafe_survey.head(3)"
   ]
  },
  {
   "cell_type": "code",
   "execution_count": 62,
   "metadata": {},
   "outputs": [
    {
     "data": {
      "text/plain": [
       "Main Factor. Which of these was the main factor for leaving?     589\n",
       "InductionInfo. Topic:Did you undertake a Corporate Induction?    270\n",
       "Contributing Factors. Career Move - Private Sector               265\n",
       "Contributing Factors. Career Move - Self-employment              265\n",
       "Contributing Factors. Ill Health                                 265\n",
       "                                                                ... \n",
       "CESSATION YEAR                                                     7\n",
       "Reason for ceasing employment                                      1\n",
       "Institute                                                          0\n",
       "WorkArea                                                           0\n",
       "Record ID                                                          0\n",
       "Length: 72, dtype: int64"
      ]
     },
     "execution_count": 62,
     "metadata": {},
     "output_type": "execute_result"
    }
   ],
   "source": [
    "tafe_survey.isnull().sum().sort_values(ascending=False)"
   ]
  },
  {
   "cell_type": "code",
   "execution_count": 61,
   "metadata": {},
   "outputs": [
    {
     "data": {
      "text/plain": [
       "Torres Strait                          819\n",
       "South Sea                              815\n",
       "Aboriginal                             806\n",
       "Disability                             799\n",
       "NESB                                   790\n",
       "Business Unit                          696\n",
       "Classification                         367\n",
       "Opportunities for promotion             87\n",
       "Career Aspirations                      76\n",
       "Wellness programs                       56\n",
       "Coach                                   55\n",
       "Further PD                              54\n",
       "Workplace issue                         34\n",
       "Feedback                                30\n",
       "Health & Safety                         29\n",
       "Gender                                  24\n",
       "Professional Development                14\n",
       "Stress and pressure support             12\n",
       "Age                                     11\n",
       "Skills                                  11\n",
       "Peer support                            10\n",
       "My say                                  10\n",
       "Kept informed                            9\n",
       "Performance of supervisor                9\n",
       "Initiative                               9\n",
       "Communication                            8\n",
       "Worklife balance                         7\n",
       "Staff morale                             6\n",
       "Information                              6\n",
       "Employment Status                        5\n",
       "Position                                 5\n",
       "Physical environment                     5\n",
       "Ill Health                               0\n",
       "Study/Travel                             0\n",
       "Relocation                               0\n",
       "Maternity/family                         0\n",
       "Career move to private sector            0\n",
       "Career move to public sector             0\n",
       "Role Start Date                          0\n",
       "Region                                   0\n",
       "SeparationType                           0\n",
       "ID                                       0\n",
       "Cease Date                               0\n",
       "DETE Start Date                          0\n",
       "Employment conditions                    0\n",
       "Work location                            0\n",
       "Lack of job security                     0\n",
       "Lack of recognition                      0\n",
       "Physical work environment                0\n",
       "Dissatisfaction with the department      0\n",
       "Job dissatisfaction                      0\n",
       "Interpersonal conflicts                  0\n",
       "None of the above                        0\n",
       "Workload                                 0\n",
       "Work life balance                        0\n",
       "Traumatic incident                       0\n",
       "dtype: int64"
      ]
     },
     "execution_count": 61,
     "metadata": {},
     "output_type": "execute_result"
    }
   ],
   "source": [
    "dete_survey.isnull().sum().sort_values(ascending=False)"
   ]
  },
  {
   "cell_type": "code",
   "execution_count": 27,
   "metadata": {},
   "outputs": [
    {
     "data": {
      "text/plain": [
       "np.int64(5674)"
      ]
     },
     "execution_count": 27,
     "metadata": {},
     "output_type": "execute_result"
    }
   ],
   "source": [
    "dete_survey.isna().sum().sum()"
   ]
  },
  {
   "cell_type": "code",
   "execution_count": 28,
   "metadata": {},
   "outputs": [
    {
     "data": {
      "text/plain": [
       "np.int64(9973)"
      ]
     },
     "execution_count": 28,
     "metadata": {},
     "output_type": "execute_result"
    }
   ],
   "source": [
    "tafe_survey.isna().sum().sum()"
   ]
  },
  {
   "cell_type": "code",
   "execution_count": 29,
   "metadata": {},
   "outputs": [
    {
     "data": {
      "text/plain": [
       "np.int64(40358)"
      ]
     },
     "execution_count": 29,
     "metadata": {},
     "output_type": "execute_result"
    }
   ],
   "source": [
    "dete_survey.notna().sum().sum()"
   ]
  },
  {
   "cell_type": "code",
   "execution_count": 31,
   "metadata": {},
   "outputs": [
    {
     "data": {
      "text/plain": [
       "np.int64(40571)"
      ]
     },
     "execution_count": 31,
     "metadata": {},
     "output_type": "execute_result"
    }
   ],
   "source": [
    "tafe_survey.notna().sum().sum()"
   ]
  },
  {
   "cell_type": "code",
   "execution_count": 37,
   "metadata": {},
   "outputs": [
    {
     "data": {
      "text/plain": [
       "0"
      ]
     },
     "execution_count": 37,
     "metadata": {},
     "output_type": "execute_result"
    }
   ],
   "source": [
    "len(tafe_survey[tafe_survey.duplicated(keep='last') == True])"
   ]
  },
  {
   "cell_type": "code",
   "execution_count": 38,
   "metadata": {},
   "outputs": [
    {
     "data": {
      "text/plain": [
       "702"
      ]
     },
     "execution_count": 38,
     "metadata": {},
     "output_type": "execute_result"
    }
   ],
   "source": [
    "len(tafe_survey[tafe_survey.duplicated(keep='last') == False])"
   ]
  },
  {
   "cell_type": "code",
   "execution_count": 40,
   "metadata": {},
   "outputs": [
    {
     "data": {
      "text/plain": [
       "0"
      ]
     },
     "execution_count": 40,
     "metadata": {},
     "output_type": "execute_result"
    }
   ],
   "source": [
    "len(dete_survey[dete_survey.duplicated(keep='last') == True])"
   ]
  },
  {
   "cell_type": "code",
   "execution_count": 41,
   "metadata": {},
   "outputs": [
    {
     "data": {
      "text/plain": [
       "822"
      ]
     },
     "execution_count": 41,
     "metadata": {},
     "output_type": "execute_result"
    }
   ],
   "source": [
    "len(dete_survey[dete_survey.duplicated(keep='last') == False])"
   ]
  },
  {
   "cell_type": "code",
   "execution_count": 44,
   "metadata": {},
   "outputs": [
    {
     "data": {
      "text/plain": [
       "56"
      ]
     },
     "execution_count": 44,
     "metadata": {},
     "output_type": "execute_result"
    }
   ],
   "source": [
    "len(dete_survey.columns)"
   ]
  },
  {
   "cell_type": "code",
   "execution_count": 166,
   "metadata": {},
   "outputs": [
    {
     "data": {
      "text/plain": [
       "72"
      ]
     },
     "execution_count": 166,
     "metadata": {},
     "output_type": "execute_result"
    }
   ],
   "source": [
    "len(tafe_survey.columns)"
   ]
  },
  {
   "cell_type": "code",
   "execution_count": 168,
   "metadata": {},
   "outputs": [
    {
     "data": {
      "text/plain": [
       "Record ID                                                       702\n",
       "Institute                                                        12\n",
       "Main Factor. Which of these was the main factor for leaving?     11\n",
       "CurrentAge. Current Age                                           9\n",
       "Classification. Classification                                    9\n",
       "dtype: int64"
      ]
     },
     "execution_count": 168,
     "metadata": {},
     "output_type": "execute_result"
    }
   ],
   "source": [
    "tafe_survey.nunique().sort_values(ascending=False).head(5)"
   ]
  },
  {
   "cell_type": "code",
   "execution_count": 163,
   "metadata": {},
   "outputs": [
    {
     "data": {
      "text/plain": [
       "ID                 822\n",
       "DETE Start Date     51\n",
       "Role Start Date     46\n",
       "dtype: int64"
      ]
     },
     "execution_count": 163,
     "metadata": {},
     "output_type": "execute_result"
    }
   ],
   "source": [
    "dete_survey.nunique().sort_values(ascending=False).head(3)"
   ]
  },
  {
   "cell_type": "code",
   "execution_count": 150,
   "metadata": {},
   "outputs": [
    {
     "name": "stdout",
     "output_type": "stream",
     "text": [
      "['B', 'W', 'm', '6', 'g', 'E', 'I', '4', 'b', 'Q', 'Y', 'H', '/', 'L', 'C', 'x', '9', 'e', 'T', '8', 'G', 'r', 'R', 'd', 'M', 'o', 'P', 'F', '-', ')', '1', 'h', '2', 'n', ',', 'u', '0', '3', 'A', 'N', '(', 'i', 'a', 'v', 'S', 'f', 'O', 'y', 'c', 'l', 'V', '5', '7', ' ', 'D', 's', 't', 'p', 'w']\n"
     ]
    }
   ],
   "source": [
    "def get_unique_characters(df):\n",
    "    string_combined = ''.join(df.astype(str).values.flatten())\n",
    "    unique_characters = set(string_combined)\n",
    "    return list(unique_characters)\n",
    "\n",
    "print(get_unique_characters(dete_survey))"
   ]
  },
  {
   "cell_type": "code",
   "execution_count": 149,
   "metadata": {},
   "outputs": [
    {
     "name": "stdout",
     "output_type": "stream",
     "text": [
      "['B', 'W', '6', 'Q', 'E', 'g', '4', 'I', 'm', 'b', 'Y', 'H', 'L', '/', 'C', 'x', '9', 'e', '[', 'T', '8', '+', 'r', 'd', 'M', 'o', 'R', 'P', 'F', '-', ')', ']', 'J', '1', 'h', '2', 'n', 'u', 'k', '%', '3', '0', 'A', 'N', '(', 'i', 'a', 'f', '.', 'S', 'v', 'y', 'c', 'l', 'O', 'V', '7', '5', ' ', 'D', 's', 't', 'p', 'w']\n"
     ]
    }
   ],
   "source": [
    "print(get_unique_characters(tafe_survey))"
   ]
  },
  {
   "cell_type": "code",
   "execution_count": 95,
   "metadata": {},
   "outputs": [],
   "source": [
    "def Get_Unique_Dateframe_Chars(data):\n",
    "    unique_chars = {}\n",
    "    for column in data.columns:\n",
    "        chars = set(''.join(data[column].astype(str).replace('nan', '')))\n",
    "        if chars:\n",
    "            unique_chars[column] = chars\n",
    "    return unique_chars"
   ]
  },
  {
   "cell_type": "code",
   "execution_count": 108,
   "metadata": {},
   "outputs": [
    {
     "name": "stdout",
     "output_type": "stream",
     "text": [
      "{'B': 201, 'W': 13, '6': 1112, 'Q': 273, 'E': 781, 'g': 15667, '4': 1062, 'I': 806, 'm': 1470, 'b': 822, 'Y': 3833, 'H': 37, 'L': 548, '/': 213, 'C': 707, 'x': 133, '9': 497, 'e': 28124, '[': 23, 'T': 1241, '8': 522, '+': 702, 'r': 21775, 'd': 1222, 'M': 650, 'o': 10270, 'R': 540, 'P': 568, 'F': 2095, '-': 10945, ')': 1269, ']': 23, 'J': 99, '1': 2448, 'h': 1784, '2': 1845, 'n': 9085, 'u': 4907, 'k': 111, '%': 23, '3': 1122, '0': 1739, 'A': 12627, 'N': 5324, '(': 1269, 'i': 7537, 'a': 12365, 'f': 969, '.': 1463, 'S': 5720, 'v': 940, 'y': 6770, 'c': 2888, 'l': 11737, 'O': 682, 'V': 201, '7': 789, '5': 1147, ' ': 10364, 'D': 4320, 's': 9400, 't': 13438, 'p': 1336, 'w': 23}\n"
     ]
    }
   ],
   "source": [
    "def Get_Unique_Chars_Count(chars, data):\n",
    "    char_dict = {str(char): 0 for char in chars}\n",
    "    stacked_data = data.stack()\n",
    "    \n",
    "    for item in stacked_data:\n",
    "        item_str = str(item)\n",
    "        for char in char_dict:\n",
    "            if char in item_str:\n",
    "                char_dict[char] += 1 \n",
    "    return char_dict"
   ]
  },
  {
   "cell_type": "code",
   "execution_count": 92,
   "metadata": {},
   "outputs": [],
   "source": [
    "tafe_chars = Get_Unique_Dateframe_Chars(tafe_survey)\n",
    "dete_chars = Get_Unique_Dateframe_Chars(dete_survey)"
   ]
  },
  {
   "cell_type": "code",
   "execution_count": 119,
   "metadata": {},
   "outputs": [
    {
     "name": "stdout",
     "output_type": "stream",
     "text": [
      "('Record ID', {'9', 'e', '3', '0', '6', '8', '.', '4', '1', '2', '+', '7', '5'})\n",
      "('Institute', {'B', 'W', 'Q', 'E', 'g', 'm', 'I', 'b', 'C', 'e', 'T', 'r', 'd', 'M', 'R', 'o', 'F', 'h', 'n', 'u', 'k', 'A', 'N', 'i', 'a', 'f', 'S', 'y', 'c', 'l', ' ', 's', 't', 'p'})\n",
      "('WorkArea', {'g', 'e', 'r', 'o', '-', ')', 'h', 'n', 'N', '(', 'i', 'v', 'y', 'a', 'c', 'l', ' ', 'D', 't', 'p'})\n"
     ]
    }
   ],
   "source": [
    "for key, value in list(tafe_chars.items())[:3]:\n",
    "    print((key, value))"
   ]
  },
  {
   "cell_type": "code",
   "execution_count": 120,
   "metadata": {},
   "outputs": [
    {
     "name": "stdout",
     "output_type": "stream",
     "text": [
      "('ID', {'9', '3', '0', '6', '8', '4', '1', '2', '5', '7'})\n",
      "('SeparationType', {'m', 'E', 'g', 'I', 'H', '/', 'C', 'x', 'e', 'T', 'r', 'R', 'M', 'd', 'o', '-', ')', 'h', 'n', 'u', 'A', '(', 'i', 'a', 'y', 'v', 'O', 'V', 'c', 'l', ' ', 's', 't', 'p'})\n",
      "('Cease Date', {'6', '4', '/', '9', 'e', '8', 'd', 'o', '1', '2', '0', '3', 'N', 'a', 'S', '5', '7', ' ', 't'})\n"
     ]
    }
   ],
   "source": [
    "for key, value in list(dete_chars.items())[:3]:\n",
    "    print((key, value))"
   ]
  },
  {
   "cell_type": "code",
   "execution_count": 109,
   "metadata": {},
   "outputs": [
    {
     "name": "stdout",
     "output_type": "stream",
     "text": [
      "{'B': 201, 'W': 13, '6': 1112, 'Q': 273, 'E': 781, 'g': 15667, '4': 1062, 'I': 806, 'm': 1470, 'b': 822, 'Y': 3833, 'H': 37, 'L': 548, '/': 213, 'C': 707, 'x': 133, '9': 497, 'e': 28124, '[': 23, 'T': 1241, '8': 522, '+': 702, 'r': 21775, 'd': 1222, 'M': 650, 'o': 10270, 'R': 540, 'P': 568, 'F': 2095, '-': 10945, ')': 1269, ']': 23, 'J': 99, '1': 2448, 'h': 1784, '2': 1845, 'n': 9085, 'u': 4907, 'k': 111, '%': 23, '3': 1122, '0': 1739, 'A': 12627, 'N': 5324, '(': 1269, 'i': 7537, 'a': 12365, 'f': 969, '.': 1463, 'S': 5720, 'v': 940, 'y': 6770, 'c': 2888, 'l': 11737, 'O': 682, 'V': 201, '7': 789, '5': 1147, ' ': 10364, 'D': 4320, 's': 9400, 't': 13438, 'p': 1336, 'w': 23}\n"
     ]
    }
   ],
   "source": [
    "print(Get_Unique_Chars_Count(get_unique_characters(tafe_survey), tafe_survey))"
   ]
  },
  {
   "cell_type": "code",
   "execution_count": 110,
   "metadata": {},
   "outputs": [
    {
     "name": "stdout",
     "output_type": "stream",
     "text": [
      "{'B': 9, 'W': 95, 'm': 2152, '6': 983, 'g': 742, 'E': 350, 'I': 90, '4': 622, 'b': 140, 'Q': 240, 'Y': 81, 'H': 106, '/': 350, 'L': 2, 'C': 478, 'x': 34, '9': 930, 'e': 19483, 'T': 1872, '8': 516, 'G': 12, 'r': 4908, 'R': 732, 'd': 1223, 'M': 758, 'o': 1905, 'P': 1091, 'F': 14607, '-': 1826, ')': 72, '1': 2598, 'h': 1291, '2': 1976, 'n': 2660, ',': 7, 'u': 2507, '0': 2221, '3': 909, 'A': 11411, 'N': 3427, '(': 72, 'i': 2627, 'a': 17883, 'v': 230, 'S': 5289, 'f': 277, 'O': 560, 'y': 535, 'c': 1149, 'l': 16245, 'V': 67, '5': 889, '7': 609, ' ': 3228, 'D': 2704, 's': 14534, 't': 3003, 'p': 417, 'w': 95}\n"
     ]
    }
   ],
   "source": [
    "print(Get_Unique_Chars_Count(get_unique_characters(dete_survey), dete_survey))"
   ]
  },
  {
   "cell_type": "code",
   "execution_count": 111,
   "metadata": {},
   "outputs": [],
   "source": [
    "# As we can see, there are a lot of / and ' ' in our dataset\n",
    "# We should see how many values are in which columns"
   ]
  },
  {
   "cell_type": "code",
   "execution_count": 122,
   "metadata": {},
   "outputs": [
    {
     "data": {
      "text/plain": [
       "0    ID                                        1\n",
       "     SeparationType        Ill Health Retirement\n",
       "     Cease Date                          08/2012\n",
       "     DETE Start Date                        1984\n",
       "     Role Start Date                        2004\n",
       "                                   ...          \n",
       "821  Ill Health                            False\n",
       "     Traumatic incident                    False\n",
       "     Work life balance                     False\n",
       "     Workload                              False\n",
       "     None of the above                     False\n",
       "Length: 40358, dtype: object"
      ]
     },
     "execution_count": 122,
     "metadata": {},
     "output_type": "execute_result"
    }
   ],
   "source": [
    "dete_survey.stack()\n",
    "# Stack converts the data from wide to long format, resulting in multilevel indexs"
   ]
  },
  {
   "cell_type": "code",
   "execution_count": 123,
   "metadata": {},
   "outputs": [
    {
     "name": "stdout",
     "output_type": "stream",
     "text": [
      "('Record ID', {'B': 0, 'W': 0, '6': 702, 'Q': 0, 'E': 0, 'g': 0, '4': 690, 'I': 0, 'm': 0, 'b': 0, 'Y': 0, 'H': 0, 'L': 0, '/': 0, 'C': 0, 'x': 0, '9': 493, 'e': 702, '[': 0, 'T': 0, '8': 522, '+': 702, 'r': 0, 'd': 0, 'M': 0, 'o': 0, 'R': 0, 'P': 0, 'F': 0, '-': 0, ')': 0, ']': 0, 'J': 0, '1': 702, 'h': 0, '2': 506, 'n': 0, 'u': 0, 'k': 0, '%': 0, '3': 702, '0': 485, 'A': 0, 'N': 0, '(': 0, 'i': 0, 'a': 0, 'f': 0, '.': 702, 'S': 0, 'v': 0, 'y': 0, 'c': 0, 'l': 0, 'O': 0, 'V': 0, '7': 702, '5': 557, ' ': 0, 'D': 0, 's': 0, 't': 0, 'p': 0, 'w': 0})\n",
      "('Institute', {'B': 178, 'W': 2, '6': 0, 'Q': 250, 'E': 602, 'g': 43, '4': 0, 'I': 645, 'm': 1, 'b': 204, 'Y': 0, 'H': 0, 'L': 0, '/': 0, 'C': 199, 'x': 0, '9': 0, 'e': 702, '[': 0, 'T': 702, '8': 0, '+': 0, 'r': 554, 'd': 252, 'M': 13, 'o': 645, 'R': 14, 'P': 0, 'F': 602, '-': 0, ')': 0, ']': 0, 'J': 0, '1': 0, 'h': 566, '2': 0, 'n': 645, 'u': 702, 'k': 100, '%': 0, '3': 0, '0': 0, 'A': 659, 'N': 231, '(': 0, 'i': 702, 'a': 701, 'f': 645, '.': 0, 'S': 334, 'v': 0, 'y': 45, 'c': 170, 'l': 421, 'O': 0, 'V': 0, '7': 0, '5': 0, ' ': 702, 'D': 0, 's': 702, 't': 702, 'p': 71, 'w': 0})\n",
      "('WorkArea', {'B': 0, 'W': 0, '6': 0, 'Q': 0, 'E': 0, 'g': 270, '4': 0, 'I': 0, 'm': 0, 'b': 0, 'Y': 0, 'H': 0, 'L': 0, '/': 0, 'C': 0, 'x': 0, '9': 0, 'e': 702, '[': 0, 'T': 0, '8': 0, '+': 0, 'r': 702, 'd': 0, 'M': 0, 'o': 432, 'R': 0, 'P': 0, 'F': 0, '-': 432, ')': 702, ']': 0, 'J': 0, '1': 0, 'h': 270, '2': 0, 'n': 702, 'u': 0, 'k': 0, '%': 0, '3': 0, '0': 0, 'A': 0, 'N': 432, '(': 702, 'i': 702, 'a': 702, 'f': 0, '.': 0, 'S': 0, 'v': 702, 'y': 702, 'c': 702, 'l': 702, 'O': 0, 'V': 0, '7': 0, '5': 0, ' ': 702, 'D': 702, 's': 0, 't': 702, 'p': 432, 'w': 0})\n"
     ]
    }
   ],
   "source": [
    "def Get_Unique_Chars_Count(chars, data):\n",
    "    result_dict = {}\n",
    "    stacked_data = data.stack()\n",
    "    for (first_idx, second_idx), value in stacked_data.items():\n",
    "        if second_idx not in result_dict:\n",
    "            result_dict[second_idx] = {str(char): 0 for char in chars}\n",
    "        value_str = str(value)\n",
    "        for char in chars:\n",
    "            char = str(char)\n",
    "            if char in value_str:\n",
    "                result_dict[second_idx][char] += 1\n",
    "    return result_dict\n",
    "\n",
    "char_count_by_col_tafe = Get_Unique_Chars_Count(get_unique_characters(tafe_survey), tafe_survey)\n",
    "\n",
    "for key, value in list(char_count_by_col_tafe.items())[:3]:\n",
    "    print((key, value))\n"
   ]
  },
  {
   "cell_type": "code",
   "execution_count": 124,
   "metadata": {},
   "outputs": [
    {
     "name": "stdout",
     "output_type": "stream",
     "text": [
      "('ID', {'B': 0, 'W': 0, 'm': 0, '6': 234, 'g': 0, 'E': 0, 'I': 0, '4': 234, 'b': 0, 'Q': 0, 'Y': 0, 'H': 0, '/': 0, 'L': 0, 'C': 0, 'x': 0, '9': 154, 'e': 0, 'T': 0, '8': 176, 'G': 0, 'r': 0, 'R': 0, 'd': 0, 'M': 0, 'o': 0, 'P': 0, 'F': 0, '-': 0, ')': 0, '1': 245, 'h': 0, '2': 239, 'n': 0, ',': 0, 'u': 0, '0': 154, '3': 236, 'A': 0, 'N': 0, '(': 0, 'i': 0, 'a': 0, 'v': 0, 'S': 0, 'f': 0, 'O': 0, 'y': 0, 'c': 0, 'l': 0, 'V': 0, '5': 235, '7': 235, ' ': 0, 'D': 0, 's': 0, 't': 0, 'p': 0, 'w': 0})\n",
      "('SeparationType', {'B': 0, 'W': 0, 'm': 519, '6': 0, 'g': 596, 'E': 101, 'I': 61, '4': 0, 'b': 0, 'Q': 0, 'Y': 0, 'H': 61, '/': 70, 'L': 0, 'C': 34, 'x': 34, '9': 0, 'e': 822, 'T': 15, '8': 0, 'G': 0, 'r': 822, 'R': 724, 'd': 34, 'M': 70, 'o': 427, 'P': 0, 'F': 0, '-': 311, ')': 67, '1': 0, 'h': 351, '2': 0, 'n': 773, ',': 0, 'u': 67, '0': 0, '3': 0, 'A': 285, 'N': 0, '(': 67, 'i': 773, 'a': 488, 'v': 70, 'S': 0, 'f': 0, 'O': 290, 'y': 158, 'c': 34, 'l': 219, 'V': 67, '5': 0, '7': 0, ' ': 758, 'D': 0, 's': 311, 't': 822, 'p': 125, 'w': 0})\n",
      "('Cease Date', {'B': 0, 'W': 0, 'm': 0, '6': 28, 'g': 0, 'E': 0, 'I': 0, '4': 53, 'b': 0, 'Q': 0, 'Y': 0, 'H': 0, '/': 242, 'L': 0, 'C': 0, 'x': 0, '9': 36, 'e': 34, 'T': 0, '8': 14, 'G': 0, 'r': 0, 'R': 0, 'd': 34, 'M': 0, 'o': 34, 'P': 0, 'F': 0, '-': 0, ')': 0, '1': 787, 'h': 0, '2': 788, 'n': 0, ',': 0, 'u': 0, '0': 788, '3': 380, 'A': 0, 'N': 34, '(': 0, 'i': 0, 'a': 34, 'v': 0, 'S': 34, 'f': 0, 'O': 0, 'y': 0, 'c': 0, 'l': 0, 'V': 0, '5': 13, '7': 26, ' ': 34, 'D': 0, 's': 0, 't': 34, 'p': 0, 'w': 0})\n"
     ]
    }
   ],
   "source": [
    "char_count_by_col_dete = Get_Unique_Chars_Count(get_unique_characters(dete_survey), dete_survey)\n",
    "\n",
    "for key, value in list(char_count_by_col_dete.items())[:3]:\n",
    "    print((key, value))"
   ]
  },
  {
   "cell_type": "code",
   "execution_count": 125,
   "metadata": {},
   "outputs": [],
   "source": [
    "# We can convert these into dataframes and get a nice visual of \n",
    "# The least and most common chars by column"
   ]
  },
  {
   "cell_type": "code",
   "execution_count": 129,
   "metadata": {},
   "outputs": [],
   "source": [
    "char_count_by_col_dete = pd.DataFrame(char_count_by_col_dete)"
   ]
  },
  {
   "cell_type": "code",
   "execution_count": 130,
   "metadata": {},
   "outputs": [],
   "source": [
    "char_count_by_col_tafe = pd.DataFrame(char_count_by_col_tafe)"
   ]
  },
  {
   "cell_type": "code",
   "execution_count": 131,
   "metadata": {},
   "outputs": [
    {
     "data": {
      "text/html": [
       "<div>\n",
       "<style scoped>\n",
       "    .dataframe tbody tr th:only-of-type {\n",
       "        vertical-align: middle;\n",
       "    }\n",
       "\n",
       "    .dataframe tbody tr th {\n",
       "        vertical-align: top;\n",
       "    }\n",
       "\n",
       "    .dataframe thead th {\n",
       "        text-align: right;\n",
       "    }\n",
       "</style>\n",
       "<table border=\"1\" class=\"dataframe\">\n",
       "  <thead>\n",
       "    <tr style=\"text-align: right;\">\n",
       "      <th></th>\n",
       "      <th>Record ID</th>\n",
       "      <th>Institute</th>\n",
       "      <th>WorkArea</th>\n",
       "      <th>CESSATION YEAR</th>\n",
       "      <th>Reason for ceasing employment</th>\n",
       "      <th>InstituteViews. Topic:1. I feel the senior leadership had a clear vision and direction</th>\n",
       "      <th>InstituteViews. Topic:2. I was given access to skills training to help me do my job better</th>\n",
       "      <th>InstituteViews. Topic:3. I was given adequate opportunities for personal development</th>\n",
       "      <th>InstituteViews. Topic:4. I was given adequate opportunities for promotion within %Institute]Q25LBL%</th>\n",
       "      <th>InstituteViews. Topic:5. I felt the salary for the job was right for the responsibilities I had</th>\n",
       "      <th>...</th>\n",
       "      <th>Contributing Factors. Ill Health</th>\n",
       "      <th>Contributing Factors. Maternity/Family</th>\n",
       "      <th>Contributing Factors. Dissatisfaction</th>\n",
       "      <th>Contributing Factors. Job Dissatisfaction</th>\n",
       "      <th>Contributing Factors. Interpersonal Conflict</th>\n",
       "      <th>Contributing Factors. Study</th>\n",
       "      <th>Contributing Factors. Travel</th>\n",
       "      <th>Contributing Factors. Other</th>\n",
       "      <th>Contributing Factors. NONE</th>\n",
       "      <th>Main Factor. Which of these was the main factor for leaving?</th>\n",
       "    </tr>\n",
       "  </thead>\n",
       "  <tbody>\n",
       "    <tr>\n",
       "      <th>B</th>\n",
       "      <td>0</td>\n",
       "      <td>178</td>\n",
       "      <td>0</td>\n",
       "      <td>0</td>\n",
       "      <td>0</td>\n",
       "      <td>0</td>\n",
       "      <td>0</td>\n",
       "      <td>0</td>\n",
       "      <td>0</td>\n",
       "      <td>0</td>\n",
       "      <td>...</td>\n",
       "      <td>0</td>\n",
       "      <td>0</td>\n",
       "      <td>0</td>\n",
       "      <td>0</td>\n",
       "      <td>0</td>\n",
       "      <td>0</td>\n",
       "      <td>0</td>\n",
       "      <td>0</td>\n",
       "      <td>0</td>\n",
       "      <td>23</td>\n",
       "    </tr>\n",
       "    <tr>\n",
       "      <th>W</th>\n",
       "      <td>0</td>\n",
       "      <td>2</td>\n",
       "      <td>0</td>\n",
       "      <td>0</td>\n",
       "      <td>0</td>\n",
       "      <td>0</td>\n",
       "      <td>0</td>\n",
       "      <td>0</td>\n",
       "      <td>0</td>\n",
       "      <td>0</td>\n",
       "      <td>...</td>\n",
       "      <td>0</td>\n",
       "      <td>0</td>\n",
       "      <td>0</td>\n",
       "      <td>0</td>\n",
       "      <td>0</td>\n",
       "      <td>0</td>\n",
       "      <td>0</td>\n",
       "      <td>0</td>\n",
       "      <td>0</td>\n",
       "      <td>0</td>\n",
       "    </tr>\n",
       "    <tr>\n",
       "      <th>6</th>\n",
       "      <td>702</td>\n",
       "      <td>0</td>\n",
       "      <td>0</td>\n",
       "      <td>0</td>\n",
       "      <td>0</td>\n",
       "      <td>0</td>\n",
       "      <td>0</td>\n",
       "      <td>0</td>\n",
       "      <td>0</td>\n",
       "      <td>0</td>\n",
       "      <td>...</td>\n",
       "      <td>0</td>\n",
       "      <td>0</td>\n",
       "      <td>0</td>\n",
       "      <td>0</td>\n",
       "      <td>0</td>\n",
       "      <td>0</td>\n",
       "      <td>0</td>\n",
       "      <td>0</td>\n",
       "      <td>0</td>\n",
       "      <td>0</td>\n",
       "    </tr>\n",
       "  </tbody>\n",
       "</table>\n",
       "<p>3 rows × 72 columns</p>\n",
       "</div>"
      ],
      "text/plain": [
       "   Record ID  Institute  WorkArea  CESSATION YEAR  \\\n",
       "B          0        178         0               0   \n",
       "W          0          2         0               0   \n",
       "6        702          0         0               0   \n",
       "\n",
       "   Reason for ceasing employment  \\\n",
       "B                              0   \n",
       "W                              0   \n",
       "6                              0   \n",
       "\n",
       "   InstituteViews. Topic:1. I feel the senior leadership had a clear vision and direction  \\\n",
       "B                                                  0                                        \n",
       "W                                                  0                                        \n",
       "6                                                  0                                        \n",
       "\n",
       "   InstituteViews. Topic:2. I was given access to skills training to help me do my job better  \\\n",
       "B                                                  0                                            \n",
       "W                                                  0                                            \n",
       "6                                                  0                                            \n",
       "\n",
       "   InstituteViews. Topic:3. I was given adequate opportunities for personal development  \\\n",
       "B                                                  0                                      \n",
       "W                                                  0                                      \n",
       "6                                                  0                                      \n",
       "\n",
       "   InstituteViews. Topic:4. I was given adequate opportunities for promotion within %Institute]Q25LBL%  \\\n",
       "B                                                  0                                                     \n",
       "W                                                  0                                                     \n",
       "6                                                  0                                                     \n",
       "\n",
       "   InstituteViews. Topic:5. I felt the salary for the job was right for the responsibilities I had  \\\n",
       "B                                                  0                                                 \n",
       "W                                                  0                                                 \n",
       "6                                                  0                                                 \n",
       "\n",
       "   ...  Contributing Factors. Ill Health  \\\n",
       "B  ...                                 0   \n",
       "W  ...                                 0   \n",
       "6  ...                                 0   \n",
       "\n",
       "   Contributing Factors. Maternity/Family  \\\n",
       "B                                       0   \n",
       "W                                       0   \n",
       "6                                       0   \n",
       "\n",
       "   Contributing Factors. Dissatisfaction  \\\n",
       "B                                      0   \n",
       "W                                      0   \n",
       "6                                      0   \n",
       "\n",
       "   Contributing Factors. Job Dissatisfaction  \\\n",
       "B                                          0   \n",
       "W                                          0   \n",
       "6                                          0   \n",
       "\n",
       "   Contributing Factors. Interpersonal Conflict  Contributing Factors. Study  \\\n",
       "B                                             0                            0   \n",
       "W                                             0                            0   \n",
       "6                                             0                            0   \n",
       "\n",
       "   Contributing Factors. Travel  Contributing Factors. Other  \\\n",
       "B                             0                            0   \n",
       "W                             0                            0   \n",
       "6                             0                            0   \n",
       "\n",
       "   Contributing Factors. NONE  \\\n",
       "B                           0   \n",
       "W                           0   \n",
       "6                           0   \n",
       "\n",
       "   Main Factor. Which of these was the main factor for leaving?  \n",
       "B                                                 23             \n",
       "W                                                  0             \n",
       "6                                                  0             \n",
       "\n",
       "[3 rows x 72 columns]"
      ]
     },
     "execution_count": 131,
     "metadata": {},
     "output_type": "execute_result"
    }
   ],
   "source": [
    "char_count_by_col_tafe.head(3)"
   ]
  },
  {
   "cell_type": "code",
   "execution_count": 132,
   "metadata": {},
   "outputs": [
    {
     "data": {
      "text/html": [
       "<div>\n",
       "<style scoped>\n",
       "    .dataframe tbody tr th:only-of-type {\n",
       "        vertical-align: middle;\n",
       "    }\n",
       "\n",
       "    .dataframe tbody tr th {\n",
       "        vertical-align: top;\n",
       "    }\n",
       "\n",
       "    .dataframe thead th {\n",
       "        text-align: right;\n",
       "    }\n",
       "</style>\n",
       "<table border=\"1\" class=\"dataframe\">\n",
       "  <thead>\n",
       "    <tr style=\"text-align: right;\">\n",
       "      <th></th>\n",
       "      <th>ID</th>\n",
       "      <th>SeparationType</th>\n",
       "      <th>Cease Date</th>\n",
       "      <th>DETE Start Date</th>\n",
       "      <th>Role Start Date</th>\n",
       "      <th>Position</th>\n",
       "      <th>Classification</th>\n",
       "      <th>Region</th>\n",
       "      <th>Business Unit</th>\n",
       "      <th>Employment Status</th>\n",
       "      <th>...</th>\n",
       "      <th>Kept informed</th>\n",
       "      <th>Wellness programs</th>\n",
       "      <th>Health &amp; Safety</th>\n",
       "      <th>Gender</th>\n",
       "      <th>Age</th>\n",
       "      <th>NESB</th>\n",
       "      <th>Aboriginal</th>\n",
       "      <th>Disability</th>\n",
       "      <th>South Sea</th>\n",
       "      <th>Torres Strait</th>\n",
       "    </tr>\n",
       "  </thead>\n",
       "  <tbody>\n",
       "    <tr>\n",
       "      <th>B</th>\n",
       "      <td>0</td>\n",
       "      <td>0</td>\n",
       "      <td>0</td>\n",
       "      <td>0</td>\n",
       "      <td>0</td>\n",
       "      <td>9</td>\n",
       "      <td>0</td>\n",
       "      <td>0</td>\n",
       "      <td>0</td>\n",
       "      <td>0</td>\n",
       "      <td>...</td>\n",
       "      <td>0</td>\n",
       "      <td>0</td>\n",
       "      <td>0</td>\n",
       "      <td>0</td>\n",
       "      <td>0</td>\n",
       "      <td>0</td>\n",
       "      <td>0</td>\n",
       "      <td>0</td>\n",
       "      <td>0</td>\n",
       "      <td>0</td>\n",
       "    </tr>\n",
       "    <tr>\n",
       "      <th>W</th>\n",
       "      <td>0</td>\n",
       "      <td>0</td>\n",
       "      <td>0</td>\n",
       "      <td>0</td>\n",
       "      <td>0</td>\n",
       "      <td>0</td>\n",
       "      <td>0</td>\n",
       "      <td>95</td>\n",
       "      <td>0</td>\n",
       "      <td>0</td>\n",
       "      <td>...</td>\n",
       "      <td>0</td>\n",
       "      <td>0</td>\n",
       "      <td>0</td>\n",
       "      <td>0</td>\n",
       "      <td>0</td>\n",
       "      <td>0</td>\n",
       "      <td>0</td>\n",
       "      <td>0</td>\n",
       "      <td>0</td>\n",
       "      <td>0</td>\n",
       "    </tr>\n",
       "    <tr>\n",
       "      <th>m</th>\n",
       "      <td>0</td>\n",
       "      <td>519</td>\n",
       "      <td>0</td>\n",
       "      <td>0</td>\n",
       "      <td>0</td>\n",
       "      <td>54</td>\n",
       "      <td>161</td>\n",
       "      <td>0</td>\n",
       "      <td>38</td>\n",
       "      <td>807</td>\n",
       "      <td>...</td>\n",
       "      <td>0</td>\n",
       "      <td>0</td>\n",
       "      <td>0</td>\n",
       "      <td>573</td>\n",
       "      <td>0</td>\n",
       "      <td>0</td>\n",
       "      <td>0</td>\n",
       "      <td>0</td>\n",
       "      <td>0</td>\n",
       "      <td>0</td>\n",
       "    </tr>\n",
       "  </tbody>\n",
       "</table>\n",
       "<p>3 rows × 56 columns</p>\n",
       "</div>"
      ],
      "text/plain": [
       "   ID  SeparationType  Cease Date  DETE Start Date  Role Start Date  Position  \\\n",
       "B   0               0           0                0                0         9   \n",
       "W   0               0           0                0                0         0   \n",
       "m   0             519           0                0                0        54   \n",
       "\n",
       "   Classification  Region  Business Unit  Employment Status  ...  \\\n",
       "B               0       0              0                  0  ...   \n",
       "W               0      95              0                  0  ...   \n",
       "m             161       0             38                807  ...   \n",
       "\n",
       "   Kept informed  Wellness programs  Health & Safety  Gender  Age  NESB  \\\n",
       "B              0                  0                0       0    0     0   \n",
       "W              0                  0                0       0    0     0   \n",
       "m              0                  0                0     573    0     0   \n",
       "\n",
       "   Aboriginal  Disability  South Sea  Torres Strait  \n",
       "B           0           0          0              0  \n",
       "W           0           0          0              0  \n",
       "m           0           0          0              0  \n",
       "\n",
       "[3 rows x 56 columns]"
      ]
     },
     "execution_count": 132,
     "metadata": {},
     "output_type": "execute_result"
    }
   ],
   "source": [
    "char_count_by_col_dete.head(3)"
   ]
  },
  {
   "cell_type": "code",
   "execution_count": 133,
   "metadata": {},
   "outputs": [
    {
     "data": {
      "text/plain": [
       "Index(['B', 'W', 'm', '6', 'g', 'E', 'I', '4', 'b', 'Q', 'Y', 'H', '/', 'L',\n",
       "       'C', 'x', '9', 'e', 'T', '8', 'G', 'r', 'R', 'd', 'M', 'o', 'P', 'F',\n",
       "       '-', ')', '1', 'h', '2', 'n', ',', 'u', '0', '3', 'A', 'N', '(', 'i',\n",
       "       'a', 'v', 'S', 'f', 'O', 'y', 'c', 'l', 'V', '5', '7', ' ', 'D', 's',\n",
       "       't', 'p', 'w'],\n",
       "      dtype='object')"
      ]
     },
     "execution_count": 133,
     "metadata": {},
     "output_type": "execute_result"
    }
   ],
   "source": [
    "char_count_by_col_dete.index"
   ]
  },
  {
   "cell_type": "code",
   "execution_count": 153,
   "metadata": {},
   "outputs": [
    {
     "data": {
      "text/plain": [
       "Index(['B', 'W', '6', 'Q', 'E', 'g', '4', 'I', 'm', 'b', 'Y', 'H', 'L', '/',\n",
       "       'C', 'x', '9', 'e', '[', 'T', '8', '+', 'r', 'd', 'M', 'o', 'R', 'P',\n",
       "       'F', '-', ')', ']', 'J', '1', 'h', '2', 'n', 'u', 'k', '%', '3', '0',\n",
       "       'A', 'N', '(', 'i', 'a', 'f', '.', 'S', 'v', 'y', 'c', 'l', 'O', 'V',\n",
       "       '7', '5', ' ', 'D', 's', 't', 'p', 'w'],\n",
       "      dtype='object')"
      ]
     },
     "execution_count": 153,
     "metadata": {},
     "output_type": "execute_result"
    }
   ],
   "source": [
    "char_count_by_col_tafe.index\n",
    "# We only want to include special characters"
   ]
  },
  {
   "cell_type": "code",
   "execution_count": 155,
   "metadata": {},
   "outputs": [],
   "source": [
    "special_char_index = char_count_by_col_tafe.index[~char_count_by_col_tafe.index.str.contains(r'[a-zA-z0-9]', regex=True)]"
   ]
  },
  {
   "cell_type": "code",
   "execution_count": 158,
   "metadata": {},
   "outputs": [
    {
     "data": {
      "text/plain": [
       "Index(['/', '+', '-', ')', '%', '(', '.', ' '], dtype='object')"
      ]
     },
     "execution_count": 158,
     "metadata": {},
     "output_type": "execute_result"
    }
   ],
   "source": [
    "special_char_index"
   ]
  },
  {
   "cell_type": "code",
   "execution_count": 160,
   "metadata": {},
   "outputs": [],
   "source": [
    "special_char_WorkArea = char_count_by_col_tafe.loc[special_char_index, 'WorkArea']"
   ]
  },
  {
   "cell_type": "code",
   "execution_count": 162,
   "metadata": {},
   "outputs": [
    {
     "data": {
      "text/plain": [
       "<BarContainer object of 8 artists>"
      ]
     },
     "execution_count": 162,
     "metadata": {},
     "output_type": "execute_result"
    },
    {
     "data": {
      "image/png": "[encoded data removed]",
      "text/plain": [
       "<Figure size 1400x500 with 1 Axes>"
      ]
     },
     "metadata": {},
     "output_type": "display_data"
    }
   ],
   "source": [
    "plt.figure(figsize=(14, 5))\n",
    "plt.xticks(ha='right')\n",
    "plt.bar(special_char_index, special_char_WorkArea, width=0.5)"
   ]
  },
  {
   "cell_type": "code",
   "execution_count": 173,
   "metadata": {},
   "outputs": [],
   "source": [
    "# So we can see that '-', '(', ')' and ' ' are all very common for WorkArea\n",
    "# A tragic limitation to this approach is that we cannot see the extent of ' ' combined\n",
    "# Next to eachother. For this edgecase, we should use .str.extractall() directly on\n",
    "# Our dataframe"
   ]
  },
  {
   "cell_type": "code",
   "execution_count": 215,
   "metadata": {},
   "outputs": [],
   "source": [
    "whitespace_extraction = tafe_survey['WorkArea'].str.extractall(r'(\\s)')\n",
    "\n",
    "level_0_values = whitespace_extraction.index.get_level_values(0).values\n",
    "level_1_values = whitespace_extraction.index.get_level_values(1).values\n",
    "\n",
    "combined_values = list(zip(level_0_values, level_1_values))\n",
    "\n",
    "for idx1, idx2 in combined_values:\n",
    "    if idx2 >= 1:\n",
    "        print(f'{idx1},{idx2}')"
   ]
  },
  {
   "cell_type": "code",
   "execution_count": null,
   "metadata": {},
   "outputs": [
    {
     "data": {
      "text/html": [
       "<div>\n",
       "<style scoped>\n",
       "    .dataframe tbody tr th:only-of-type {\n",
       "        vertical-align: middle;\n",
       "    }\n",
       "\n",
       "    .dataframe tbody tr th {\n",
       "        vertical-align: top;\n",
       "    }\n",
       "\n",
       "    .dataframe thead th {\n",
       "        text-align: right;\n",
       "    }\n",
       "</style>\n",
       "<table border=\"1\" class=\"dataframe\">\n",
       "  <thead>\n",
       "    <tr style=\"text-align: right;\">\n",
       "      <th></th>\n",
       "      <th>0</th>\n",
       "    </tr>\n",
       "  </thead>\n",
       "  <tbody>\n",
       "    <tr>\n",
       "      <th>0</th>\n",
       "      <td>NaN</td>\n",
       "    </tr>\n",
       "    <tr>\n",
       "      <th>1</th>\n",
       "      <td>NaN</td>\n",
       "    </tr>\n",
       "    <tr>\n",
       "      <th>2</th>\n",
       "      <td>NaN</td>\n",
       "    </tr>\n",
       "    <tr>\n",
       "      <th>3</th>\n",
       "      <td>NaN</td>\n",
       "    </tr>\n",
       "    <tr>\n",
       "      <th>4</th>\n",
       "      <td>NaN</td>\n",
       "    </tr>\n",
       "    <tr>\n",
       "      <th>...</th>\n",
       "      <td>...</td>\n",
       "    </tr>\n",
       "    <tr>\n",
       "      <th>697</th>\n",
       "      <td>NaN</td>\n",
       "    </tr>\n",
       "    <tr>\n",
       "      <th>698</th>\n",
       "      <td>NaN</td>\n",
       "    </tr>\n",
       "    <tr>\n",
       "      <th>699</th>\n",
       "      <td>NaN</td>\n",
       "    </tr>\n",
       "    <tr>\n",
       "      <th>700</th>\n",
       "      <td>NaN</td>\n",
       "    </tr>\n",
       "    <tr>\n",
       "      <th>701</th>\n",
       "      <td>NaN</td>\n",
       "    </tr>\n",
       "  </tbody>\n",
       "</table>\n",
       "<p>702 rows × 1 columns</p>\n",
       "</div>"
      ],
      "text/plain": [
       "       0\n",
       "0    NaN\n",
       "1    NaN\n",
       "2    NaN\n",
       "3    NaN\n",
       "4    NaN\n",
       "..   ...\n",
       "697  NaN\n",
       "698  NaN\n",
       "699  NaN\n",
       "700  NaN\n",
       "701  NaN\n",
       "\n",
       "[702 rows x 1 columns]"
      ]
     },
     "execution_count": 210,
     "metadata": {},
     "output_type": "execute_result"
    }
   ],
   "source": []
  }
 ],
 "metadata": {
  "kernelspec": {
   "display_name": "Python 3 (ipykernel)",
   "language": "python",
   "name": "python3"
  },
  "language_info": {
   "codemirror_mode": {
    "name": "ipython",
    "version": 3
   },
   "file_extension": ".py",
   "mimetype": "text/x-python",
   "name": "python",
   "nbconvert_exporter": "python",
   "pygments_lexer": "ipython3",
   "version": "3.11.0rc1"
  }
 },
 "nbformat": 4,
 "nbformat_minor": 4
}
